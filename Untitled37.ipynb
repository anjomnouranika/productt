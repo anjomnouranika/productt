{
  "nbformat": 4,
  "nbformat_minor": 0,
  "metadata": {
    "colab": {
      "name": "Untitled37.ipynb",
      "provenance": [],
      "authorship_tag": "ABX9TyMG6qjsdyLl5xEKhJtL9I0Y",
      "include_colab_link": true
    },
    "kernelspec": {
      "name": "python3",
      "display_name": "Python 3"
    }
  },
  "cells": [
    {
      "cell_type": "markdown",
      "metadata": {
        "id": "view-in-github",
        "colab_type": "text"
      },
      "source": [
        "<a href=\"https://colab.research.google.com/github/anjomnouranika/productt/blob/master/Untitled37.ipynb\" target=\"_parent\"><img src=\"https://colab.research.google.com/assets/colab-badge.svg\" alt=\"Open In Colab\"/></a>"
      ]
    },
    {
      "cell_type": "code",
      "metadata": {
        "id": "5su-T6wR0R3v",
        "colab_type": "code",
        "colab": {
          "base_uri": "https://localhost:8080/",
          "height": 54
        },
        "outputId": "63134f1a-5420-45d8-f19e-127fe66d8cc7"
      },
      "source": [
        "number = int(input(\"\"))\n",
        "product = 1\n",
        "while number > 0:\n",
        "  product = product * (number % 10)\n",
        "  number= number // 10\n",
        "print(\"product = \",product)  \n"
      ],
      "execution_count": null,
      "outputs": [
        {
          "output_type": "stream",
          "text": [
            "1234\n",
            "product =  24\n"
          ],
          "name": "stdout"
        }
      ]
    }
  ]
}